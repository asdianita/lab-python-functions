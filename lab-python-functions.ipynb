{
 "cells": [
  {
   "cell_type": "markdown",
   "id": "25d7736c-ba17-4aff-b6bb-66eba20fbf4e",
   "metadata": {},
   "source": [
    "# Lab | Functions"
   ]
  },
  {
   "cell_type": "markdown",
   "id": "0c581062-8967-4d93-b06e-62833222f930",
   "metadata": {
    "tags": []
   },
   "source": [
    "## Exercise: Managing Customer Orders with Functions\n",
    "\n",
    "In the previous exercise, you improved the code for managing customer orders by using loops and flow control. Now, let's take it a step further and refactor the code by introducing functions.\n",
    "\n",
    "Follow the steps below to complete the exercise:\n",
    "\n",
    "1. Define a function named `initialize_inventory` that takes `products` as a parameter. Inside the function, implement the code for initializing the inventory dictionary using a loop and user input.\n",
    "\n",
    "2. Define a function named `get_customer_orders` that takes no parameters. Inside the function, implement the code for prompting the user to enter the product names using a loop. The function should return the `customer_orders` set.\n",
    "\n",
    "3. Define a function named `update_inventory` that takes `customer_orders` and `inventory` as parameters. Inside the function, implement the code for updating the inventory dictionary based on the customer orders.\n",
    "\n",
    "4. Define a function named `calculate_order_statistics` that takes `customer_orders` and `products` as parameters. Inside the function, implement the code for calculating the order statistics (total products ordered, and percentage of unique products ordered). The function should return these values.\n",
    "\n",
    "5. Define a function named `print_order_statistics` that takes `order_statistics` as a parameter. Inside the function, implement the code for printing the order statistics.\n",
    "\n",
    "6. Define a function named `print_updated_inventory` that takes `inventory` as a parameter. Inside the function, implement the code for printing the updated inventory.\n",
    "\n",
    "7. Call the functions in the appropriate sequence to execute the program and manage customer orders.\n",
    "\n",
    "Hints for functions:\n",
    "\n",
    "- Consider the input parameters required for each function and their return values.\n",
    "- Utilize function parameters and return values to transfer data between functions.\n",
    "- Test your functions individually to ensure they work correctly.\n",
    "\n",
    "\n"
   ]
  },
  {
   "cell_type": "code",
   "execution_count": 44,
   "id": "d44ad5b9",
   "metadata": {},
   "outputs": [],
   "source": [
    "#1. Define a function named `initialize_inventory` that takes `products` \n",
    "# as a parameter. Inside the function, implement the code for initializing \n",
    "# the inventory dictionary using a loop and user input.\n",
    "\n",
    "def initialize_inventory(products):\n",
    "    inventario = {}\n",
    "    for item in products:\n",
    "        qty = int(input(f\"Enter the quantity of {item}: \"))\n",
    "        inventario[item] = qty\n",
    "    print(f\"Those are the items in the inventory:{inventario}\")\n",
    "    return inventario"
   ]
  },
  {
   "cell_type": "code",
   "execution_count": 45,
   "id": "7820b813",
   "metadata": {},
   "outputs": [],
   "source": [
    "#2. Define a function named `get_customer_orders` that takes no parameters. \n",
    "# Inside the function, implement the code for prompting the user to enter the \n",
    "# product names using a loop. The function should return the `customer_orders` set.\n",
    "\n",
    "def get_customer_orders():\n",
    "\n",
    "    customer_orders = set()\n",
    "    more_products = \"Yes\"\n",
    "    while more_products == \"Yes\":\n",
    "        order = input(\"Please choose a product from the list\")\n",
    "        if order in products:\n",
    "            customer_orders.add(order)\n",
    "            more_products = input(\"Do you want to buy more products? Please type Yes or No\")\n",
    "            while more_products != \"Yes\" and more_products != \"No\":\n",
    "                more_products = input(\"Do you want to buy more products? Please type Yes or No\")\n",
    "        else:\n",
    "            more_products == \"Yes\"\n",
    "    else:\n",
    "        print(f\"Those are the items in the customer order:{customer_orders}\")\n",
    "    return customer_orders\n"
   ]
  },
  {
   "cell_type": "code",
   "execution_count": 47,
   "id": "c4f3de1d",
   "metadata": {},
   "outputs": [],
   "source": [
    "#3. Define a function named `update_inventory` that takes `customer_orders` \n",
    "# and `inventory` as parameters. Inside the function, implement the code for \n",
    "# updating the inventory dictionary based on the customer orders.\n",
    "\n",
    "def update_inventory(inventory,customer_orders):\n",
    "    purchases = {}\n",
    "    for item in customer_orders:\n",
    "        qty = int(input(f\"Enter the quantity of {item} you want to purchase: \"))\n",
    "        while qty > inventory[item] or qty < 0:\n",
    "            print(f\"Sorry, we only have {inventory[item]} units of {item} available\")\n",
    "            qty = int(input(f\"Enter the quantity of {item} you want to purchase: \"))\n",
    "        purchases[item] = qty\n",
    "    for item in customer_orders:\n",
    "        inventory[item] -= purchases[item]\n",
    "    print(f\"Those are the items purchased:{purchases}\")\n",
    "    return inventory, purchases"
   ]
  },
  {
   "cell_type": "code",
   "execution_count": 53,
   "id": "6dbdab7b",
   "metadata": {},
   "outputs": [],
   "source": [
    "#4. Define a function named `calculate_order_statistics` that takes \n",
    "# `customer_orders` and `inventory` as parameters. Inside the function, \n",
    "# implement the code for calculating the order statistics (total products \n",
    "# ordered, and percentage of unique products ordered). The function should \n",
    "# return these values.\n",
    "\n",
    "def calculate_order_statistics(customer_orders,inventory):\n",
    "\n",
    "    suma = 0\n",
    "    for items in customer_orders:\n",
    "        suma += purchases[items]\n",
    "\n",
    "    percentages = {}\n",
    "    for items in customer_orders:\n",
    "        percentages[items] = str.format(\"{:.2f}%\", purchases[items]*100/(inventory[items]+purchases[items]))\n",
    "\n",
    "    order_status = (suma,percentages)\n",
    "    return order_status\n",
    "\n"
   ]
  },
  {
   "cell_type": "code",
   "execution_count": 50,
   "id": "90772231",
   "metadata": {},
   "outputs": [
    {
     "name": "stdout",
     "output_type": "stream",
     "text": [
      "\n",
      "        Order Statistics:\n",
      "        Total Products Ordered: 150\n",
      "        Percentage of Products Ordered: {'hat': '20.00%', 'mug': '100.00%'} \n"
     ]
    }
   ],
   "source": [
    "#5. Define a function named `print_order_statistics` that takes \n",
    "# `order_statistics` as a parameter. Inside the function, implement \n",
    "# the code for printing the order statistics.\n",
    "\n",
    "def print_order_statistics(order_statistics):\n",
    "    print(f'''\n",
    "        Order Statistics:\n",
    "        Total Products Ordered: {order_statistics[0]}\n",
    "        Percentage of Products Ordered: {order_statistics[1]} \n",
    "        ''')\n",
    "\n",
    "order_statistics_print = print_order_statistics(order_statistics)\n",
    "\n",
    "#6. Define a function named `print_updated_inventory` that takes \n",
    "# `inventory` as a parameter. Inside the function, implement the code \n",
    "# for printing the updated inventory.\n",
    "\n",
    "def print_updated_inventory(inventory):\n",
    "    print(f\"This is the updated inventory:{inventory}\")\n",
    "\n"
   ]
  },
  {
   "cell_type": "code",
   "execution_count": 54,
   "id": "02aeeb5d",
   "metadata": {},
   "outputs": [
    {
     "name": "stdout",
     "output_type": "stream",
     "text": [
      "Those are the items in the inventory:{'t-shirt': 100, 'mug': 100, 'hat': 100, 'book': 100, 'keychain': 100}\n",
      "Those are the items in the customer order:{'hat', 'mug', 'book'}\n",
      "Those are the items purchased:{'hat': 10, 'mug': 15, 'book': 20}\n",
      "This is the updated inventory:{'t-shirt': 100, 'mug': 85, 'hat': 90, 'book': 80, 'keychain': 100}\n",
      "\n",
      "        Order Statistics:\n",
      "        Total Products Ordered: 45\n",
      "        Percentage of Products Ordered: {'hat': '10.00%', 'mug': '15.00%', 'book': '20.00%'} \n",
      "This is the updated inventory:{'t-shirt': 100, 'mug': 85, 'hat': 90, 'book': 80, 'keychain': 100}\n"
     ]
    }
   ],
   "source": [
    "#7. Call the functions in the appropriate sequence to execute the \n",
    "# program and manage customer orders.\n",
    "\n",
    "products = [\"t-shirt\", \"mug\", \"hat\", \"book\", \"keychain\"]\n",
    "inventory = initialize_inventory(products)\n",
    "\n",
    "customer_orders = get_customer_orders()\n",
    "\n",
    "inventory_updated,purchases = update_inventory(inventory,customer_orders)\n",
    "\n",
    "order_statistics = calculate_order_statistics(customer_orders,inventory)\n",
    "\n",
    "order_statistics_print = print_order_statistics(order_statistics)\n",
    "\n",
    "updated_inventory_print = print_updated_inventory(inventory)\n"
   ]
  }
 ],
 "metadata": {
  "kernelspec": {
   "display_name": "Python 3 (ipykernel)",
   "language": "python",
   "name": "python3"
  },
  "language_info": {
   "codemirror_mode": {
    "name": "ipython",
    "version": 3
   },
   "file_extension": ".py",
   "mimetype": "text/x-python",
   "name": "python",
   "nbconvert_exporter": "python",
   "pygments_lexer": "ipython3",
   "version": "3.9.1"
  }
 },
 "nbformat": 4,
 "nbformat_minor": 5
}
